{
 "cells": [
  {
   "cell_type": "code",
   "execution_count": 26,
   "metadata": {
    "execution": {
     "iopub.execute_input": "2023-01-07T06:23:15.909962Z",
     "iopub.status.busy": "2023-01-07T06:23:15.909556Z",
     "iopub.status.idle": "2023-01-07T06:23:15.917080Z",
     "shell.execute_reply": "2023-01-07T06:23:15.915996Z",
     "shell.execute_reply.started": "2023-01-07T06:23:15.909927Z"
    },
    "trusted": true
   },
   "outputs": [],
   "source": [
    "import pandas as pd\n",
    "import numpy as np\n",
    "import matplotlib.pyplot as plt\n",
    "import seaborn as sns\n",
    "from pathlib import Path\n",
    "import os.path\n",
    "import tensorflow as tf\n",
    "from sklearn.model_selection import train_test_split\n",
    "from sklearn.preprocessing import LabelEncoder"
   ]
  },
  {
   "cell_type": "markdown",
   "metadata": {},
   "source": [
    "# Image Directory"
   ]
  },
  {
   "cell_type": "code",
   "execution_count": 27,
   "metadata": {
    "execution": {
     "iopub.execute_input": "2023-01-07T06:23:24.588177Z",
     "iopub.status.busy": "2023-01-07T06:23:24.587765Z",
     "iopub.status.idle": "2023-01-07T06:23:24.594280Z",
     "shell.execute_reply": "2023-01-07T06:23:24.593120Z",
     "shell.execute_reply.started": "2023-01-07T06:23:24.588144Z"
    },
    "trusted": true
   },
   "outputs": [],
   "source": [
    "image_dir = Path('/kaggle/input/indian-food-images-dataset/Indian Food Images/Indian Food Images')"
   ]
  },
  {
   "cell_type": "markdown",
   "metadata": {},
   "source": [
    "# Setting Filepath and Labels"
   ]
  },
  {
   "cell_type": "code",
   "execution_count": 28,
   "metadata": {
    "execution": {
     "iopub.execute_input": "2023-01-07T06:23:26.478825Z",
     "iopub.status.busy": "2023-01-07T06:23:26.478457Z",
     "iopub.status.idle": "2023-01-07T06:23:26.625753Z",
     "shell.execute_reply": "2023-01-07T06:23:26.624624Z",
     "shell.execute_reply.started": "2023-01-07T06:23:26.478794Z"
    },
    "trusted": true
   },
   "outputs": [],
   "source": [
    "filepath = list(image_dir.glob(r'**/*.jpg'))\n",
    "label = list(map(lambda x : os.path.split(os.path.split(x)[0])[1], filepath))"
   ]
  },
  {
   "cell_type": "markdown",
   "metadata": {},
   "source": [
    "# Converting it into image_df"
   ]
  },
  {
   "cell_type": "code",
   "execution_count": 29,
   "metadata": {
    "execution": {
     "iopub.execute_input": "2023-01-07T06:23:28.016034Z",
     "iopub.status.busy": "2023-01-07T06:23:28.015510Z",
     "iopub.status.idle": "2023-01-07T06:23:28.054447Z",
     "shell.execute_reply": "2023-01-07T06:23:28.053335Z",
     "shell.execute_reply.started": "2023-01-07T06:23:28.015987Z"
    },
    "trusted": true
   },
   "outputs": [
    {
     "data": {
      "text/html": [
       "<div>\n",
       "<style scoped>\n",
       "    .dataframe tbody tr th:only-of-type {\n",
       "        vertical-align: middle;\n",
       "    }\n",
       "\n",
       "    .dataframe tbody tr th {\n",
       "        vertical-align: top;\n",
       "    }\n",
       "\n",
       "    .dataframe thead th {\n",
       "        text-align: right;\n",
       "    }\n",
       "</style>\n",
       "<table border=\"1\" class=\"dataframe\">\n",
       "  <thead>\n",
       "    <tr style=\"text-align: right;\">\n",
       "      <th></th>\n",
       "      <th>Filepath</th>\n",
       "      <th>Label</th>\n",
       "    </tr>\n",
       "  </thead>\n",
       "  <tbody>\n",
       "    <tr>\n",
       "      <th>0</th>\n",
       "      <td>/kaggle/input/indian-food-images-dataset/India...</td>\n",
       "      <td>ariselu</td>\n",
       "    </tr>\n",
       "    <tr>\n",
       "      <th>1</th>\n",
       "      <td>/kaggle/input/indian-food-images-dataset/India...</td>\n",
       "      <td>unni_appam</td>\n",
       "    </tr>\n",
       "    <tr>\n",
       "      <th>2</th>\n",
       "      <td>/kaggle/input/indian-food-images-dataset/India...</td>\n",
       "      <td>chak_hao_kheer</td>\n",
       "    </tr>\n",
       "    <tr>\n",
       "      <th>3</th>\n",
       "      <td>/kaggle/input/indian-food-images-dataset/India...</td>\n",
       "      <td>chikki</td>\n",
       "    </tr>\n",
       "    <tr>\n",
       "      <th>4</th>\n",
       "      <td>/kaggle/input/indian-food-images-dataset/India...</td>\n",
       "      <td>sandesh</td>\n",
       "    </tr>\n",
       "  </tbody>\n",
       "</table>\n",
       "</div>"
      ],
      "text/plain": [
       "                                            Filepath           Label\n",
       "0  /kaggle/input/indian-food-images-dataset/India...         ariselu\n",
       "1  /kaggle/input/indian-food-images-dataset/India...      unni_appam\n",
       "2  /kaggle/input/indian-food-images-dataset/India...  chak_hao_kheer\n",
       "3  /kaggle/input/indian-food-images-dataset/India...          chikki\n",
       "4  /kaggle/input/indian-food-images-dataset/India...         sandesh"
      ]
     },
     "execution_count": 29,
     "metadata": {},
     "output_type": "execute_result"
    }
   ],
   "source": [
    "filepath = pd.Series(filepath, name = 'Filepath').astype(str)\n",
    "label = pd.Series(label, name = 'Label')\n",
    "image_df = pd.concat([filepath, label], axis = 1).sample(frac = 1.0, random_state = 1).reset_index(drop = True)\n",
    "image_df.head()"
   ]
  },
  {
   "cell_type": "code",
   "execution_count": 30,
   "metadata": {
    "execution": {
     "iopub.execute_input": "2023-01-07T06:23:29.655218Z",
     "iopub.status.busy": "2023-01-07T06:23:29.654619Z",
     "iopub.status.idle": "2023-01-07T06:23:29.673014Z",
     "shell.execute_reply": "2023-01-07T06:23:29.671810Z",
     "shell.execute_reply.started": "2023-01-07T06:23:29.655174Z"
    },
    "trusted": true
   },
   "outputs": [
    {
     "data": {
      "text/plain": [
       "80"
      ]
     },
     "execution_count": 30,
     "metadata": {},
     "output_type": "execute_result"
    }
   ],
   "source": [
    "len(image_df['Label'].unique())"
   ]
  },
  {
   "cell_type": "code",
   "execution_count": 31,
   "metadata": {
    "execution": {
     "iopub.execute_input": "2023-01-07T06:23:31.364662Z",
     "iopub.status.busy": "2023-01-07T06:23:31.364187Z",
     "iopub.status.idle": "2023-01-07T06:23:31.372580Z",
     "shell.execute_reply": "2023-01-07T06:23:31.371495Z",
     "shell.execute_reply.started": "2023-01-07T06:23:31.364619Z"
    },
    "trusted": true
   },
   "outputs": [
    {
     "data": {
      "text/plain": [
       "(4000, 2)"
      ]
     },
     "execution_count": 31,
     "metadata": {},
     "output_type": "execute_result"
    }
   ],
   "source": [
    "image_df.shape"
   ]
  },
  {
   "cell_type": "markdown",
   "metadata": {},
   "source": [
    "# Label encoding Food names"
   ]
  },
  {
   "cell_type": "code",
   "execution_count": 34,
   "metadata": {
    "execution": {
     "iopub.execute_input": "2023-01-07T06:25:32.245146Z",
     "iopub.status.busy": "2023-01-07T06:25:32.244728Z",
     "iopub.status.idle": "2023-01-07T06:25:32.257003Z",
     "shell.execute_reply": "2023-01-07T06:25:32.255843Z",
     "shell.execute_reply.started": "2023-01-07T06:25:32.245110Z"
    },
    "trusted": true
   },
   "outputs": [
    {
     "data": {
      "text/plain": [
       "7     50\n",
       "79    50\n",
       "40    50\n",
       "69    50\n",
       "4     50\n",
       "      ..\n",
       "59    50\n",
       "39    50\n",
       "37    50\n",
       "32    50\n",
       "22    50\n",
       "Name: Label, Length: 80, dtype: int64"
      ]
     },
     "execution_count": 34,
     "metadata": {},
     "output_type": "execute_result"
    }
   ],
   "source": [
    "le = LabelEncoder()\n",
    "image_df['Label'] = le.fit_transform(image_df['Label'])\n",
    "image_df['Label'].value_counts()"
   ]
  },
  {
   "cell_type": "markdown",
   "metadata": {},
   "source": [
    "# Image Data Generator"
   ]
  },
  {
   "cell_type": "markdown",
   "metadata": {},
   "source": [
    "#### Creating train_test_split"
   ]
  },
  {
   "cell_type": "code",
   "execution_count": 36,
   "metadata": {
    "execution": {
     "iopub.execute_input": "2023-01-07T06:26:17.165775Z",
     "iopub.status.busy": "2023-01-07T06:26:17.165013Z",
     "iopub.status.idle": "2023-01-07T06:26:17.174809Z",
     "shell.execute_reply": "2023-01-07T06:26:17.173680Z",
     "shell.execute_reply.started": "2023-01-07T06:26:17.165735Z"
    },
    "trusted": true
   },
   "outputs": [],
   "source": [
    "train_df, test_df = train_test_split(image_df, test_size = 0.30, shuffle = True, random_state = 1)"
   ]
  },
  {
   "cell_type": "code",
   "execution_count": 38,
   "metadata": {
    "execution": {
     "iopub.execute_input": "2023-01-07T06:26:21.419327Z",
     "iopub.status.busy": "2023-01-07T06:26:21.418782Z",
     "iopub.status.idle": "2023-01-07T06:26:21.425496Z",
     "shell.execute_reply": "2023-01-07T06:26:21.423917Z",
     "shell.execute_reply.started": "2023-01-07T06:26:21.419290Z"
    },
    "trusted": true
   },
   "outputs": [],
   "source": [
    "train_gen = tf.keras.preprocessing.image.ImageDataGenerator(rescale = 1./255,\n",
    "                                                           validation_split = 0.2)\n",
    "test_gen = tf.keras.preprocessing.image.ImageDataGenerator(rescale = 1./255)"
   ]
  },
  {
   "cell_type": "code",
   "execution_count": 22,
   "metadata": {
    "execution": {
     "iopub.execute_input": "2023-01-07T06:04:35.154617Z",
     "iopub.status.busy": "2023-01-07T06:04:35.153890Z",
     "iopub.status.idle": "2023-01-07T06:04:37.028468Z",
     "shell.execute_reply": "2023-01-07T06:04:37.027257Z",
     "shell.execute_reply.started": "2023-01-07T06:04:35.154582Z"
    },
    "trusted": true
   },
   "outputs": [
    {
     "name": "stdout",
     "output_type": "stream",
     "text": [
      "Found 2240 validated image filenames belonging to 80 classes.\n",
      "Found 560 validated image filenames belonging to 80 classes.\n",
      "Found 1200 validated image filenames belonging to 80 classes.\n"
     ]
    }
   ],
   "source": [
    "train_image = train_gen.flow_from_dataframe(dataframe = train_df,\n",
    "                                           x_col = 'Filepath',\n",
    "                                           y_col = 'Label',\n",
    "                                           target_size = (224,224),\n",
    "                                           batch_size = 32,\n",
    "                                           color_mode = 'rgb',\n",
    "                                           class_mode = 'categorical',\n",
    "                                           shuffle = True,\n",
    "                                           seed = 42,\n",
    "                                           subset = 'training')\n",
    "val_image = train_gen.flow_from_dataframe(dataframe = train_df,\n",
    "                                           x_col = 'Filepath',\n",
    "                                           y_col = 'Label',\n",
    "                                           target_size = (224,224),\n",
    "                                           batch_size = 32,\n",
    "                                           color_mode = 'rgb',\n",
    "                                           class_mode = 'categorical',\n",
    "                                           shuffle = True,\n",
    "                                           seed = 42,\n",
    "                                           subset = 'validation')\n",
    "test_image = test_gen.flow_from_dataframe(dataframe = test_df,\n",
    "                                           x_col = 'Filepath',\n",
    "                                           y_col = 'Label',\n",
    "                                           target_size = (224,224),\n",
    "                                           batch_size = 32,\n",
    "                                           color_mode = 'rgb',\n",
    "                                           class_mode = 'categorical',\n",
    "                                           shuffle = False)"
   ]
  },
  {
   "cell_type": "markdown",
   "metadata": {},
   "source": [
    "# Training"
   ]
  },
  {
   "cell_type": "code",
   "execution_count": 40,
   "metadata": {
    "execution": {
     "iopub.execute_input": "2023-01-07T06:28:17.320160Z",
     "iopub.status.busy": "2023-01-07T06:28:17.319762Z",
     "iopub.status.idle": "2023-01-07T06:33:05.020360Z",
     "shell.execute_reply": "2023-01-07T06:33:05.019258Z",
     "shell.execute_reply.started": "2023-01-07T06:28:17.320125Z"
    },
    "trusted": true
   },
   "outputs": [
    {
     "name": "stdout",
     "output_type": "stream",
     "text": [
      "Epoch 1/100\n",
      "70/70 [==============================] - 30s 421ms/step - loss: 0.0123 - accuracy: 0.9875 - val_loss: 0.0123 - val_accuracy: 0.9875\n",
      "Epoch 2/100\n",
      "70/70 [==============================] - 29s 418ms/step - loss: 0.0123 - accuracy: 0.9875 - val_loss: 0.0123 - val_accuracy: 0.9875\n",
      "Epoch 3/100\n",
      "70/70 [==============================] - 30s 424ms/step - loss: 0.0123 - accuracy: 0.9875 - val_loss: 0.0123 - val_accuracy: 0.9875\n",
      "Epoch 4/100\n",
      "70/70 [==============================] - 29s 408ms/step - loss: 0.0123 - accuracy: 0.9875 - val_loss: 0.0123 - val_accuracy: 0.9875\n",
      "Epoch 5/100\n",
      "70/70 [==============================] - 29s 416ms/step - loss: 0.0123 - accuracy: 0.9875 - val_loss: 0.0123 - val_accuracy: 0.9875\n",
      "Epoch 6/100\n",
      "70/70 [==============================] - 29s 415ms/step - loss: 0.0123 - accuracy: 0.9875 - val_loss: 0.0123 - val_accuracy: 0.9875\n",
      "Epoch 7/100\n",
      "70/70 [==============================] - 29s 410ms/step - loss: 0.0123 - accuracy: 0.9875 - val_loss: 0.0123 - val_accuracy: 0.9875\n",
      "Epoch 8/100\n",
      "70/70 [==============================] - 28s 392ms/step - loss: 0.0123 - accuracy: 0.9875 - val_loss: 0.0123 - val_accuracy: 0.9875\n",
      "Epoch 9/100\n",
      "70/70 [==============================] - 27s 385ms/step - loss: 0.0123 - accuracy: 0.9875 - val_loss: 0.0123 - val_accuracy: 0.9875\n",
      "Epoch 10/100\n",
      "70/70 [==============================] - 28s 407ms/step - loss: 0.0123 - accuracy: 0.9875 - val_loss: 0.0123 - val_accuracy: 0.9875\n"
     ]
    }
   ],
   "source": [
    "inputs = tf.keras.Input(shape = (120,120,3))\n",
    "x = tf.keras.layers.Conv2D(filters = 16, kernel_size =(3,3), activation = 'relu' )(inputs)\n",
    "x = tf.keras.layers.MaxPool2D()(x)\n",
    "x = tf.keras.layers.Conv2D(filters = 32, kernel_size =(3,3), activation = 'relu' )(x)\n",
    "x = tf.keras.layers.MaxPool2D()(x)\n",
    "x = tf.keras.layers.GlobalAveragePooling2D()(x)\n",
    "x = tf.keras.layers.Dense(64, activation = 'relu')(x)\n",
    "x = tf.keras.layers.Dense(64, activation = 'relu')(x)\n",
    "outputs = tf.keras.layers.Dense(1, activation = 'linear')(x)\n",
    "model = tf.keras.Model(inputs = inputs, outputs = outputs)\n",
    "model.compile(optimizer = 'adam',\n",
    "             loss = 'mse',\n",
    "             metrics = ['accuracy'])\n",
    "history  = model.fit(train_image,\n",
    "                    validation_data = val_image,\n",
    "                    epochs = 100,\n",
    "                    callbacks = [tf.keras.callbacks.EarlyStopping(\n",
    "                    monitor = 'val_loss',\n",
    "                    patience = 5,\n",
    "                    restore_best_weights = True)])"
   ]
  },
  {
   "cell_type": "markdown",
   "metadata": {},
   "source": [
    "Results"
   ]
  },
  {
   "cell_type": "code",
   "execution_count": null,
   "metadata": {
    "execution": {
     "iopub.execute_input": "2023-01-07T06:40:20.145231Z",
     "iopub.status.busy": "2023-01-07T06:40:20.144816Z",
     "iopub.status.idle": "2023-01-07T06:40:33.751876Z",
     "shell.execute_reply": "2023-01-07T06:40:33.750730Z",
     "shell.execute_reply.started": "2023-01-07T06:40:20.145194Z"
    },
    "trusted": true
   },
   "outputs": [],
   "source": [
    "result = model.evaluate(test_image, verbose = 0)\n",
    "print('Test Loss : {:.3f}'.format(result[0]))\n",
    "print('Test Accuracy : {:.3f}%'.format(result[1]*100))"
   ]
  },
  {
   "cell_type": "markdown",
   "metadata": {},
   "source": [
    "# Plotting Training and Validation (Loss & Accuracy)"
   ]
  },
  {
   "cell_type": "code",
   "execution_count": 50,
   "metadata": {
    "execution": {
     "iopub.execute_input": "2023-01-07T06:51:57.240029Z",
     "iopub.status.busy": "2023-01-07T06:51:57.239637Z",
     "iopub.status.idle": "2023-01-07T06:51:57.621642Z",
     "shell.execute_reply": "2023-01-07T06:51:57.620186Z",
     "shell.execute_reply.started": "2023-01-07T06:51:57.239995Z"
    },
    "trusted": true
   },
   "outputs": [
    {
     "data": {
      "image/png": "[encoded data removed]",
      "text/plain": [
       "<Figure size 1440x1440 with 2 Axes>"
      ]
     },
     "metadata": {
      "needs_background": "light"
     },
     "output_type": "display_data"
    }
   ],
   "source": [
    "plt.figure(figsize = (20,20))\n",
    "plt.subplot(2,2,1)\n",
    "plt.plot(range(10),history.history['accuracy'], label = 'Training Accuracy')\n",
    "plt.plot(range(10), history.history['val_accuracy'], label = 'Validation Accuracy')\n",
    "plt.title('Training Accuracy vs Validation Accuracy')\n",
    "plt.legend(loc = 'lower right')\n",
    "plt.subplot(2,2,2)\n",
    "plt.plot(range(10),history.history['loss'], label = 'Training Loss')\n",
    "plt.plot(range(10), history.history['val_loss'], label = 'Validation Loss')\n",
    "plt.title('Training Loss vs Validation Loss')\n",
    "plt.legend(loc = 'upper right')\n",
    "plt.show()"
   ]
  }
 ],
 "metadata": {
  "kernelspec": {
   "display_name": "Python 3",
   "language": "python",
   "name": "python3"
  },
  "language_info": {
   "codemirror_mode": {
    "name": "ipython",
    "version": 3
   },
   "file_extension": ".py",
   "mimetype": "text/x-python",
   "name": "python",
   "nbconvert_exporter": "python",
   "pygments_lexer": "ipython3",
   "version": "3.7.12"
  }
 },
 "nbformat": 4,
 "nbformat_minor": 4
}
